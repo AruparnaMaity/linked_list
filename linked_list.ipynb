{
 "cells": [
  {
   "cell_type": "code",
   "execution_count": 1,
   "metadata": {},
   "outputs": [],
   "source": [
    "class Node():\n",
    "    def __init__(self, data = None, next = None) -> None:\n",
    "        self.value = data\n",
    "        self.next = next"
   ]
  },
  {
   "cell_type": "code",
   "execution_count": 86,
   "metadata": {},
   "outputs": [],
   "source": [
    "class LinkedList:\n",
    "    def __init__(self):\n",
    "        self.head = None\n",
    "\n",
    "\n",
    "    def insert_at_beginning(self, data):\n",
    "        node = Node(data, self.head)\n",
    "        self.head = node\n",
    "\n",
    "\n",
    "    def insert_at_end(self, data):\n",
    "        if self.head == None:\n",
    "            self.head = Node(data, None)\n",
    "            return\n",
    "        else:\n",
    "            itr = self.head\n",
    "            while itr.next:\n",
    "                itr = itr.next\n",
    "            itr.next = Node(data, None)\n",
    "\n",
    "\n",
    "    def insert_values(self, data_list):\n",
    "        self.head = None\n",
    "        for data in data_list:\n",
    "            if self.head == None:\n",
    "                self.head = Node(data, None)\n",
    "                itr = self.head\n",
    "            else:\n",
    "                itr.next = Node(data, None)\n",
    "                itr = itr.next\n",
    "        return self.head\n",
    "\n",
    "\n",
    "    def get_length(self):\n",
    "        counter = 0\n",
    "        itr = self.head\n",
    "        while itr:\n",
    "            itr = itr.next\n",
    "            counter += 1\n",
    "        return counter\n",
    "    \n",
    "\n",
    "    def remove_at(self, index):\n",
    "        if self.head == None:\n",
    "            print(\"Empty linked list\")\n",
    "        elif index == 0:\n",
    "            self.head = self.head.next\n",
    "        else:\n",
    "            counter = 0\n",
    "            itr = self.head\n",
    "            while itr.next:\n",
    "                if counter == index - 1:\n",
    "                    itr.next = itr.next.next\n",
    "                itr = itr.next\n",
    "                counter += 1\n",
    "\n",
    "\n",
    "    def insert_at(self, index, data):\n",
    "        itr = self.head\n",
    "        counter = 0\n",
    "        if index == 0:\n",
    "            self.head = Node(data, self.head)\n",
    "        else:\n",
    "            while itr:\n",
    "                if counter == index - 1:\n",
    "                    itr.next = Node(data, itr.next)\n",
    "                    break\n",
    "                itr = itr.next\n",
    "                counter += 1\n",
    "\n",
    "\n",
    "    def print(self):\n",
    "        if self.head == None:\n",
    "            print(\"Linked list is empty\")\n",
    "            return\n",
    "        \n",
    "        itr = self.head\n",
    "        llist = \"\"\n",
    "        while itr:\n",
    "            llist = llist + str(itr.value) + \"--->\"\n",
    "            itr = itr.next\n",
    "        print(llist)\n",
    "\n",
    "\n",
    "    def sortList(self):\n",
    "        # Write your code here\n",
    "        pntr1 = self.head\n",
    "        pntr2 = self.head.next\n",
    "\n",
    "        while (pntr1.next != None) & (pntr2.next != None):\n",
    "            print(pntr1.value)\n",
    "            print(pntr2.value)\n",
    "\n",
    "            pntr1 = pntr1.next\n",
    "            pntr2 = pntr2.next\n",
    "\n",
    "            if pntr1.value <= pntr2.value:\n",
    "                continue\n",
    "            elif pntr1.value > pntr2.value:\n",
    "                temp = pntr1\n",
    "                pntr1 = pntr2\n",
    "                pntr2 = temp\n",
    "        return self.head\n"
   ]
  },
  {
   "cell_type": "code",
   "execution_count": 87,
   "metadata": {},
   "outputs": [
    {
     "name": "stdout",
     "output_type": "stream",
     "text": [
      "1--->1--->0--->1--->2--->0--->2--->0--->\n"
     ]
    }
   ],
   "source": [
    "if __name__ == \"__main__\":\n",
    "    ll = LinkedList()\n",
    "    # ll.insert_at_beginning(10)\n",
    "    # ll.insert_at_beginning(9)\n",
    "    ll.insert_values([1, 1, 0, 1, 2, 0, 2])\n",
    "    ll.insert_at_end(0)\n",
    "    ll.print()\n",
    "\n",
    "    # ll.remove_at(1)\n",
    "    # ll.print()\n",
    "    \n",
    "    # ll.insert_at(0, \"New element\")\n",
    "    # ll.print()"
   ]
  },
  {
   "cell_type": "code",
   "execution_count": 88,
   "metadata": {},
   "outputs": [
    {
     "name": "stdout",
     "output_type": "stream",
     "text": [
      "1\n",
      "1\n",
      "0\n",
      "1\n",
      "0\n",
      "1\n",
      "1\n",
      "2\n",
      "0\n",
      "2\n",
      "0\n",
      "2\n"
     ]
    },
    {
     "data": {
      "text/plain": [
       "<__main__.Node at 0x1131dc7ee70>"
      ]
     },
     "execution_count": 88,
     "metadata": {},
     "output_type": "execute_result"
    }
   ],
   "source": [
    "ll.sortList()"
   ]
  },
  {
   "cell_type": "code",
   "execution_count": 89,
   "metadata": {},
   "outputs": [
    {
     "name": "stdout",
     "output_type": "stream",
     "text": [
      "1--->1--->0--->1--->2--->0--->2--->0--->\n"
     ]
    }
   ],
   "source": [
    "ll.print()"
   ]
  }
 ],
 "metadata": {
  "kernelspec": {
   "display_name": "Python 3",
   "language": "python",
   "name": "python3"
  },
  "language_info": {
   "codemirror_mode": {
    "name": "ipython",
    "version": 3
   },
   "file_extension": ".py",
   "mimetype": "text/x-python",
   "name": "python",
   "nbconvert_exporter": "python",
   "pygments_lexer": "ipython3",
   "version": "3.12.4"
  }
 },
 "nbformat": 4,
 "nbformat_minor": 2
}
